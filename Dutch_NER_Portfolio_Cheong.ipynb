{
 "cells": [
  {
   "cell_type": "markdown",
   "id": "2fd2faac",
   "metadata": {},
   "source": [
    "# 🧠 Custom Dutch Named Entity Recognition (NER) with spaCy\n",
    "**By Phui San Louisa Cheong**  \n",
    "*NLP & Data Science Portfolio – 2025*  \n",
    "\n",
    "This project trains a custom Dutch Named Entity Recognition model using spaCy to detect:\n",
    "\n",
    "- `ZORGVERZEKERAAR` (health insurer)\n",
    "- `POLISNUMMER` (policy number)\n",
    "- `BEDRIJFSNAAM` (company name)\n",
    "\n",
    "The training data is synthetically generated with aligned entity spans."
   ]
  },
  {
   "cell_type": "code",
   "execution_count": null,
   "id": "3ef39d68",
   "metadata": {},
   "outputs": [],
   "source": [
    "!pip install -U spacy\n",
    "!python -m spacy download nl_core_news_lg"
   ]
  },
  {
   "cell_type": "code",
   "execution_count": null,
   "id": "cc8f5ff0",
   "metadata": {},
   "outputs": [],
   "source": [
    "import spacy\n",
    "import random\n",
    "from spacy.training.example import Example\n",
    "nlp = spacy.load('nl_core_news_lg')"
   ]
  },
  {
   "cell_type": "markdown",
   "id": "1198867c",
   "metadata": {},
   "source": [
    "## 📚 Training Data"
   ]
  },
  {
   "cell_type": "code",
   "execution_count": null,
   "id": "56062764",
   "metadata": {},
   "outputs": [],
   "source": [
    "TRAIN_DATA = [\n",
    "    (\"Mijn verzekeraar is Zilveren Kruis sinds 2020.\", {\"entities\": [(22, 36, \"ZORGVERZEKERAAR\")]}),\n",
    "    (\"Het polisnummer op uw document is CD123456X.\", {\"entities\": [(34, 43, \"POLISNUMMER\")]}),\n",
    "    (\"d'Arschot en Gezelschap is een erkend bedrijf in Vlaanderen.\", {\"entities\": [(0, 25, \"BEDRIJFSNAAM\")]})\n",
    "]"
   ]
  },
  {
   "cell_type": "markdown",
   "id": "a59614b1",
   "metadata": {},
   "source": [
    "## 🏋️ Model Training"
   ]
  },
  {
   "cell_type": "code",
   "execution_count": null,
   "id": "60727aeb",
   "metadata": {},
   "outputs": [],
   "source": [
    "ner = nlp.get_pipe(\"ner\")\n",
    "ner.add_label(\"ZORGVERZEKERAAR\")\n",
    "ner.add_label(\"POLISNUMMER\")\n",
    "ner.add_label(\"BEDRIJFSNAAM\")\n",
    "\n",
    "other_pipes = [pipe for pipe in nlp.pipe_names if pipe != \"ner\"]\n",
    "with nlp.disable_pipes(*other_pipes):\n",
    "    optimizer = nlp.resume_training()\n",
    "    for i in range(10):\n",
    "        random.shuffle(TRAIN_DATA)\n",
    "        losses = {}\n",
    "        for text, annotations in TRAIN_DATA:\n",
    "            doc = nlp.make_doc(text)\n",
    "            example = Example.from_dict(doc, annotations)\n",
    "            nlp.update([example], losses=losses)\n",
    "        print(f\"Iteration {i} Losses: {losses}\")"
   ]
  },
  {
   "cell_type": "markdown",
   "id": "a77633fa",
   "metadata": {},
   "source": [
    "## 🧪 Testing the Model"
   ]
  },
  {
   "cell_type": "code",
   "execution_count": null,
   "id": "3a1a0572",
   "metadata": {},
   "outputs": [],
   "source": [
    "test_text = \"Mijn polisnummer is CD123456X en ik ben verzekerd bij Zilveren Kruis.\"\n",
    "doc = nlp(test_text)\n",
    "for ent in doc.ents:\n",
    "    print(ent.text, ent.label_)"
   ]
  },
  {
   "cell_type": "markdown",
   "id": "f74b079d",
   "metadata": {},
   "source": [
    "## 🎨 Entity Visualization"
   ]
  },
  {
   "cell_type": "code",
   "execution_count": null,
   "id": "1ab931f5",
   "metadata": {},
   "outputs": [],
   "source": [
    "from spacy import displacy\n",
    "displacy.render(doc, style='ent', jupyter=True)"
   ]
  },
  {
   "cell_type": "markdown",
   "id": "29dce8c7",
   "metadata": {},
   "source": [
    "## 💾 Save and Reload the Model"
   ]
  },
  {
   "cell_type": "code",
   "execution_count": null,
   "id": "13034e49",
   "metadata": {},
   "outputs": [],
   "source": [
    "nlp.to_disk(\"custom_dutch_ner_model\")\n",
    "# Later:\n",
    "nlp = spacy.load(\"custom_dutch_ner_model\")"
   ]
  },
  {
   "cell_type": "markdown",
   "id": "ec209cd7",
   "metadata": {},
   "source": [
    "## ✅ Conclusion & Next Steps\n",
    "This project demonstrated how to train a custom Dutch NER model using spaCy.\n",
    "The model successfully detects insurers, policy numbers, and company names.\n",
    "\n",
    "**Next steps:**\n",
    "- Expand dataset with real-world samples\n",
    "- Fine-tune further with spaCy projects\n",
    "- Deploy in a Streamlit or FastAPI app for live annotation\n"
   ]
  }
 ],
 "metadata": {},
 "nbformat": 4,
 "nbformat_minor": 5
}